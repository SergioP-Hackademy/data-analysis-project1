{
 "cells": [
  {
   "cell_type": "code",
   "execution_count": 6,
   "metadata": {},
   "outputs": [],
   "source": [
    "from lifestore_file import lifestore_products, lifestore_sales, lifestore_searches\n",
    "from login import loginn, validacion\n",
    "import pandas as pd \n",
    "import altair as alt\n",
    "import operator\n",
    "import copy\n",
    "from collections import OrderedDict\n",
    "import operator"
   ]
  },
  {
   "cell_type": "markdown",
   "metadata": {},
   "source": [
    "lifestore_searches = [id_search, id product]\n",
    "\n",
    "lifestore_sales = [id_sale, id_product, score (from 1 to 5), date, refund (1 for true or 0 to false)]\n",
    "\n",
    "lifestore_products = [id_product, name, price, category, stock]"
   ]
  },
  {
   "cell_type": "code",
   "execution_count": 80,
   "metadata": {},
   "outputs": [
    {
     "name": "stdout",
     "output_type": "stream",
     "text": [
      "{'procesadores': 1837, 'tarjetas de video': 362, 'tarjetas madre': 824, 'discos duros': 441, 'memorias usb': 25, 'pantallas': 1196, 'bocinas': 147, 'audifonos': 656}\n",
      "            category  stok\n",
      "0       procesadores  1837\n",
      "1  tarjetas de video   362\n",
      "2     tarjetas madre   824\n",
      "3       discos duros   441\n",
      "4       memorias usb    25\n",
      "5          pantallas  1196\n",
      "6            bocinas   147\n",
      "7          audifonos   656\n"
     ]
    },
    {
     "data": {
      "text/html": [
       "\n",
       "<div id=\"altair-viz-741d484d87ea4ae18468ad2dd3788c40\"></div>\n",
       "<script type=\"text/javascript\">\n",
       "  var VEGA_DEBUG = (typeof VEGA_DEBUG == \"undefined\") ? {} : VEGA_DEBUG;\n",
       "  (function(spec, embedOpt){\n",
       "    let outputDiv = document.currentScript.previousElementSibling;\n",
       "    if (outputDiv.id !== \"altair-viz-741d484d87ea4ae18468ad2dd3788c40\") {\n",
       "      outputDiv = document.getElementById(\"altair-viz-741d484d87ea4ae18468ad2dd3788c40\");\n",
       "    }\n",
       "    const paths = {\n",
       "      \"vega\": \"https://cdn.jsdelivr.net/npm//vega@5?noext\",\n",
       "      \"vega-lib\": \"https://cdn.jsdelivr.net/npm//vega-lib?noext\",\n",
       "      \"vega-lite\": \"https://cdn.jsdelivr.net/npm//vega-lite@4.17.0?noext\",\n",
       "      \"vega-embed\": \"https://cdn.jsdelivr.net/npm//vega-embed@6?noext\",\n",
       "    };\n",
       "\n",
       "    function maybeLoadScript(lib, version) {\n",
       "      var key = `${lib.replace(\"-\", \"\")}_version`;\n",
       "      return (VEGA_DEBUG[key] == version) ?\n",
       "        Promise.resolve(paths[lib]) :\n",
       "        new Promise(function(resolve, reject) {\n",
       "          var s = document.createElement('script');\n",
       "          document.getElementsByTagName(\"head\")[0].appendChild(s);\n",
       "          s.async = true;\n",
       "          s.onload = () => {\n",
       "            VEGA_DEBUG[key] = version;\n",
       "            return resolve(paths[lib]);\n",
       "          };\n",
       "          s.onerror = () => reject(`Error loading script: ${paths[lib]}`);\n",
       "          s.src = paths[lib];\n",
       "        });\n",
       "    }\n",
       "\n",
       "    function showError(err) {\n",
       "      outputDiv.innerHTML = `<div class=\"error\" style=\"color:red;\">${err}</div>`;\n",
       "      throw err;\n",
       "    }\n",
       "\n",
       "    function displayChart(vegaEmbed) {\n",
       "      vegaEmbed(outputDiv, spec, embedOpt)\n",
       "        .catch(err => showError(`Javascript Error: ${err.message}<br>This usually means there's a typo in your chart specification. See the javascript console for the full traceback.`));\n",
       "    }\n",
       "\n",
       "    if(typeof define === \"function\" && define.amd) {\n",
       "      requirejs.config({paths});\n",
       "      require([\"vega-embed\"], displayChart, err => showError(`Error loading script: ${err.message}`));\n",
       "    } else {\n",
       "      maybeLoadScript(\"vega\", \"5\")\n",
       "        .then(() => maybeLoadScript(\"vega-lite\", \"4.17.0\"))\n",
       "        .then(() => maybeLoadScript(\"vega-embed\", \"6\"))\n",
       "        .catch(showError)\n",
       "        .then(() => displayChart(vegaEmbed));\n",
       "    }\n",
       "  })({\"config\": {\"view\": {\"continuousWidth\": 400, \"continuousHeight\": 300}}, \"layer\": [{\"mark\": \"bar\", \"encoding\": {\"color\": {\"field\": \"category\", \"legend\": {\"title\": \"Score\"}, \"scale\": {\"domain\": [\"memorias usb\", \"audifonos\", \"pantallas\", \"tarjetas de video\", \"bocinas\"], \"range\": [\"#d62728\", \"#1f77b4\", \"#17becf\", \"#2ca02c\", \"#ff7f0e\"]}, \"type\": \"nominal\"}, \"x\": {\"field\": \"category\", \"sort\": \"y\", \"type\": \"nominal\"}, \"y\": {\"field\": \"stok\", \"type\": \"quantitative\"}}}, {\"mark\": {\"type\": \"text\", \"align\": \"left\", \"color\": \"black\", \"dx\": -30}, \"encoding\": {\"color\": {\"field\": \"category\", \"legend\": {\"title\": \"Score\"}, \"scale\": {\"domain\": [\"memorias usb\", \"audifonos\", \"pantallas\", \"tarjetas de video\", \"bocinas\"], \"range\": [\"#d62728\", \"#1f77b4\", \"#17becf\", \"#2ca02c\", \"#ff7f0e\"]}, \"type\": \"nominal\"}, \"text\": {\"field\": \"stok\", \"type\": \"quantitative\"}, \"x\": {\"field\": \"category\", \"sort\": \"y\", \"type\": \"nominal\"}, \"y\": {\"field\": \"stok\", \"type\": \"quantitative\"}}, \"title\": \"Stok de productos por categoria\"}], \"data\": {\"name\": \"data-3515de237016cebdbe30655ac0a5ff38\"}, \"height\": 900, \"$schema\": \"https://vega.github.io/schema/vega-lite/v4.17.0.json\", \"datasets\": {\"data-3515de237016cebdbe30655ac0a5ff38\": [{\"category\": \"procesadores\", \"stok\": 1837}, {\"category\": \"tarjetas de video\", \"stok\": 362}, {\"category\": \"tarjetas madre\", \"stok\": 824}, {\"category\": \"discos duros\", \"stok\": 441}, {\"category\": \"memorias usb\", \"stok\": 25}, {\"category\": \"pantallas\", \"stok\": 1196}, {\"category\": \"bocinas\", \"stok\": 147}, {\"category\": \"audifonos\", \"stok\": 656}]}}, {\"mode\": \"vega-lite\"});\n",
       "</script>"
      ],
      "text/plain": [
       "alt.LayerChart(...)"
      ]
     },
     "execution_count": 80,
     "metadata": {},
     "output_type": "execute_result"
    }
   ],
   "source": [
    "stok_category = [ value[3:] for value in lifestore_products]\n",
    "# print(stok_category)\n",
    "diccionario_stok = {}\n",
    "for value in  stok_category:\n",
    "    if (value[0] not in diccionario_stok.keys()):\n",
    "        diccionario_stok[value[0]]=value[1]\n",
    "    diccionario_stok[value[0]]+= value[1]\n",
    "    # app\n",
    "print(diccionario_stok)\n",
    "\n",
    "\n",
    "diccionario_stok = pd.DataFrame([[key, diccionario_stok[key]] for key in diccionario_stok.keys()], columns = ['category','stok'])\n",
    "print(diccionario_stok)\n",
    "\n",
    "domain = ['memorias usb', 'audifonos','pantallas','tarjetas de video','bocinas']\n",
    "range_ = ['#d62728', '#1f77b4', '#17becf','#2ca02c', '#ff7f0e']\n",
    "\n",
    "# Graficacion de la lista de productos\n",
    "bars = alt.Chart(diccionario_stok).mark_bar().encode(\n",
    "    x=alt.X('category', sort='y'),\n",
    "    y=\"stok:Q\",\n",
    "    # color='category'\n",
    "    color=alt.Color(\"category\", legend=alt.Legend(title=\"Score\"),scale=alt.Scale(domain=domain, range=range_)),\n",
    "    \n",
    ")\n",
    "\n",
    "text = bars.mark_text(\n",
    "    align='left',\n",
    "    dx=-30,  # Nudges text to right so it doesn't appear on top of the bar\n",
    "    color='black'\n",
    ").encode(\n",
    "    text='stok',\n",
    ").properties(\n",
    "            title='Stok de productos por categoria'\n",
    "        )\n",
    "(bars + text ).properties(height=900)"
   ]
  },
  {
   "cell_type": "code",
   "execution_count": 2,
   "metadata": {},
   "outputs": [
    {
     "name": "stdout",
     "output_type": "stream",
     "text": [
      "<class 'list'>\n"
     ]
    },
    {
     "data": {
      "text/html": [
       "<div>\n",
       "<style scoped>\n",
       "    .dataframe tbody tr th:only-of-type {\n",
       "        vertical-align: middle;\n",
       "    }\n",
       "\n",
       "    .dataframe tbody tr th {\n",
       "        vertical-align: top;\n",
       "    }\n",
       "\n",
       "    .dataframe thead th {\n",
       "        text-align: right;\n",
       "    }\n",
       "</style>\n",
       "<table border=\"1\" class=\"dataframe\">\n",
       "  <thead>\n",
       "    <tr style=\"text-align: right;\">\n",
       "      <th></th>\n",
       "      <th>0</th>\n",
       "      <th>1</th>\n",
       "      <th>2</th>\n",
       "      <th>3</th>\n",
       "      <th>4</th>\n",
       "    </tr>\n",
       "  </thead>\n",
       "  <tbody>\n",
       "    <tr>\n",
       "      <th>0</th>\n",
       "      <td>1</td>\n",
       "      <td>1</td>\n",
       "      <td>5</td>\n",
       "      <td>24/07/2020</td>\n",
       "      <td>0</td>\n",
       "    </tr>\n",
       "    <tr>\n",
       "      <th>1</th>\n",
       "      <td>2</td>\n",
       "      <td>1</td>\n",
       "      <td>5</td>\n",
       "      <td>27/07/2020</td>\n",
       "      <td>0</td>\n",
       "    </tr>\n",
       "    <tr>\n",
       "      <th>2</th>\n",
       "      <td>3</td>\n",
       "      <td>2</td>\n",
       "      <td>5</td>\n",
       "      <td>24/02/2020</td>\n",
       "      <td>0</td>\n",
       "    </tr>\n",
       "    <tr>\n",
       "      <th>3</th>\n",
       "      <td>4</td>\n",
       "      <td>2</td>\n",
       "      <td>5</td>\n",
       "      <td>22/05/2020</td>\n",
       "      <td>0</td>\n",
       "    </tr>\n",
       "    <tr>\n",
       "      <th>4</th>\n",
       "      <td>5</td>\n",
       "      <td>2</td>\n",
       "      <td>5</td>\n",
       "      <td>01/01/2020</td>\n",
       "      <td>0</td>\n",
       "    </tr>\n",
       "    <tr>\n",
       "      <th>...</th>\n",
       "      <td>...</td>\n",
       "      <td>...</td>\n",
       "      <td>...</td>\n",
       "      <td>...</td>\n",
       "      <td>...</td>\n",
       "    </tr>\n",
       "    <tr>\n",
       "      <th>269</th>\n",
       "      <td>279</td>\n",
       "      <td>84</td>\n",
       "      <td>5</td>\n",
       "      <td>05/05/2020</td>\n",
       "      <td>0</td>\n",
       "    </tr>\n",
       "    <tr>\n",
       "      <th>270</th>\n",
       "      <td>280</td>\n",
       "      <td>85</td>\n",
       "      <td>5</td>\n",
       "      <td>05/05/2020</td>\n",
       "      <td>0</td>\n",
       "    </tr>\n",
       "    <tr>\n",
       "      <th>271</th>\n",
       "      <td>281</td>\n",
       "      <td>85</td>\n",
       "      <td>5</td>\n",
       "      <td>28/04/2020</td>\n",
       "      <td>0</td>\n",
       "    </tr>\n",
       "    <tr>\n",
       "      <th>272</th>\n",
       "      <td>282</td>\n",
       "      <td>89</td>\n",
       "      <td>3</td>\n",
       "      <td>06/01/2020</td>\n",
       "      <td>0</td>\n",
       "    </tr>\n",
       "    <tr>\n",
       "      <th>273</th>\n",
       "      <td>283</td>\n",
       "      <td>94</td>\n",
       "      <td>4</td>\n",
       "      <td>10/04/2020</td>\n",
       "      <td>0</td>\n",
       "    </tr>\n",
       "  </tbody>\n",
       "</table>\n",
       "<p>274 rows × 5 columns</p>\n",
       "</div>"
      ],
      "text/plain": [
       "       0   1  2           3  4\n",
       "0      1   1  5  24/07/2020  0\n",
       "1      2   1  5  27/07/2020  0\n",
       "2      3   2  5  24/02/2020  0\n",
       "3      4   2  5  22/05/2020  0\n",
       "4      5   2  5  01/01/2020  0\n",
       "..   ...  .. ..         ... ..\n",
       "269  279  84  5  05/05/2020  0\n",
       "270  280  85  5  05/05/2020  0\n",
       "271  281  85  5  28/04/2020  0\n",
       "272  282  89  3  06/01/2020  0\n",
       "273  283  94  4  10/04/2020  0\n",
       "\n",
       "[274 rows x 5 columns]"
      ]
     },
     "execution_count": 2,
     "metadata": {},
     "output_type": "execute_result"
    }
   ],
   "source": [
    "sales_no_refound = [value for value in lifestore_sales if value[4] != 1 ]\n",
    "\n",
    "print(type(sales_no_refound))\n",
    "# print(sales_no_refound)\n",
    "pd.DataFrame(sales_no_refound)"
   ]
  },
  {
   "cell_type": "code",
   "execution_count": 98,
   "metadata": {},
   "outputs": [],
   "source": [
    "dataframe_products = pd.DataFrame(lifestore_products,columns=['id_product', 'name', 'price', 'category', 'stock'])\n",
    "dataframe_searches = pd.DataFrame(lifestore_searches,columns=['id_search', 'id_product'])\n",
    "dataframe_sales = pd.DataFrame(lifestore_sales,columns=['id_sale', 'id_product', 'score', 'date', 'refund' ])\n",
    "sales_no_refound =pd.DataFrame(lifestore_sales,columns=['id_sale', 'id_product', 'score', 'date', 'refund' ])\n"
   ]
  },
  {
   "cell_type": "code",
   "execution_count": 120,
   "metadata": {},
   "outputs": [
    {
     "name": "stdout",
     "output_type": "stream",
     "text": [
      "(96, 5)\n",
      "(1033, 2)\n",
      "(283, 5)\n"
     ]
    }
   ],
   "source": [
    "print(dataframe_products.shape)\n",
    "print(dataframe_searches.shape)\n",
    "print(dataframe_sales.shape)"
   ]
  },
  {
   "cell_type": "markdown",
   "metadata": {},
   "source": [
    "Categorías con menores ventas y categorías con menores búsquedas"
   ]
  },
  {
   "cell_type": "code",
   "execution_count": 92,
   "metadata": {},
   "outputs": [
    {
     "name": "stdout",
     "output_type": "stream",
     "text": [
      "category\n",
      "audifonos              5\n",
      "bocinas                2\n",
      "discos duros          94\n",
      "memorias usb           1\n",
      "pantallas              2\n",
      "procesadores         104\n",
      "tarjetas de video     26\n",
      "tarjetas madre        49\n",
      "Name: id_sale, dtype: int64\n"
     ]
    }
   ],
   "source": [
    "join_sales = pd.merge(sales_no_refound,dataframe_products,on='id_product',how='left')#.groupby(['category']).head()\n",
    "# print(join_sales)\n",
    "join_sales = join_sales.groupby(['category']).count()['id_sale']\n",
    "# dataframe_sales\n",
    "print(join_sales)\n"
   ]
  },
  {
   "cell_type": "code",
   "execution_count": 122,
   "metadata": {},
   "outputs": [
    {
     "name": "stdout",
     "output_type": "stream",
     "text": [
      "category\n",
      "audifonos             64\n",
      "bocinas                9\n",
      "discos duros         463\n",
      "pantallas             56\n",
      "procesadores         222\n",
      "tarjetas de video     82\n",
      "tarjetas madre       137\n",
      "Name: name, dtype: int64\n"
     ]
    }
   ],
   "source": [
    "\n",
    "join_searches = pd.merge(dataframe_searches,dataframe_products,on='id_product',how='left')#.groupby(['category']).head()\n",
    "join_searches = join_searches.groupby(['category']).count()['name']\n",
    "print(join_searches)"
   ]
  },
  {
   "cell_type": "code",
   "execution_count": 172,
   "metadata": {},
   "outputs": [
    {
     "name": "stdout",
     "output_type": "stream",
     "text": [
      "            category  vistas_x_compras\n",
      "0          audifonos         12.800000\n",
      "1            bocinas          4.500000\n",
      "2       discos duros          4.925532\n",
      "3       memorias usb               NaN\n",
      "4          pantallas         28.000000\n",
      "5       procesadores          2.134615\n",
      "6  tarjetas de video          3.153846\n",
      "7     tarjetas madre          2.795918\n"
     ]
    },
    {
     "data": {
      "text/html": [
       "\n",
       "<div id=\"altair-viz-b1b99ef910b74df9a6e70c0cb361dff3\"></div>\n",
       "<script type=\"text/javascript\">\n",
       "  var VEGA_DEBUG = (typeof VEGA_DEBUG == \"undefined\") ? {} : VEGA_DEBUG;\n",
       "  (function(spec, embedOpt){\n",
       "    let outputDiv = document.currentScript.previousElementSibling;\n",
       "    if (outputDiv.id !== \"altair-viz-b1b99ef910b74df9a6e70c0cb361dff3\") {\n",
       "      outputDiv = document.getElementById(\"altair-viz-b1b99ef910b74df9a6e70c0cb361dff3\");\n",
       "    }\n",
       "    const paths = {\n",
       "      \"vega\": \"https://cdn.jsdelivr.net/npm//vega@5?noext\",\n",
       "      \"vega-lib\": \"https://cdn.jsdelivr.net/npm//vega-lib?noext\",\n",
       "      \"vega-lite\": \"https://cdn.jsdelivr.net/npm//vega-lite@4.17.0?noext\",\n",
       "      \"vega-embed\": \"https://cdn.jsdelivr.net/npm//vega-embed@6?noext\",\n",
       "    };\n",
       "\n",
       "    function maybeLoadScript(lib, version) {\n",
       "      var key = `${lib.replace(\"-\", \"\")}_version`;\n",
       "      return (VEGA_DEBUG[key] == version) ?\n",
       "        Promise.resolve(paths[lib]) :\n",
       "        new Promise(function(resolve, reject) {\n",
       "          var s = document.createElement('script');\n",
       "          document.getElementsByTagName(\"head\")[0].appendChild(s);\n",
       "          s.async = true;\n",
       "          s.onload = () => {\n",
       "            VEGA_DEBUG[key] = version;\n",
       "            return resolve(paths[lib]);\n",
       "          };\n",
       "          s.onerror = () => reject(`Error loading script: ${paths[lib]}`);\n",
       "          s.src = paths[lib];\n",
       "        });\n",
       "    }\n",
       "\n",
       "    function showError(err) {\n",
       "      outputDiv.innerHTML = `<div class=\"error\" style=\"color:red;\">${err}</div>`;\n",
       "      throw err;\n",
       "    }\n",
       "\n",
       "    function displayChart(vegaEmbed) {\n",
       "      vegaEmbed(outputDiv, spec, embedOpt)\n",
       "        .catch(err => showError(`Javascript Error: ${err.message}<br>This usually means there's a typo in your chart specification. See the javascript console for the full traceback.`));\n",
       "    }\n",
       "\n",
       "    if(typeof define === \"function\" && define.amd) {\n",
       "      requirejs.config({paths});\n",
       "      require([\"vega-embed\"], displayChart, err => showError(`Error loading script: ${err.message}`));\n",
       "    } else {\n",
       "      maybeLoadScript(\"vega\", \"5\")\n",
       "        .then(() => maybeLoadScript(\"vega-lite\", \"4.17.0\"))\n",
       "        .then(() => maybeLoadScript(\"vega-embed\", \"6\"))\n",
       "        .catch(showError)\n",
       "        .then(() => displayChart(vegaEmbed));\n",
       "    }\n",
       "  })({\"config\": {\"view\": {\"continuousWidth\": 400, \"continuousHeight\": 300}}, \"layer\": [{\"mark\": \"bar\", \"encoding\": {\"color\": {\"field\": \"category\", \"type\": \"nominal\"}, \"x\": {\"field\": \"category\", \"type\": \"nominal\"}, \"y\": {\"field\": \"vistas_x_compras\", \"type\": \"quantitative\"}}}, {\"mark\": {\"type\": \"text\", \"align\": \"left\", \"color\": \"black\", \"dx\": -30}, \"encoding\": {\"color\": {\"field\": \"category\", \"type\": \"nominal\"}, \"x\": {\"field\": \"category\", \"type\": \"nominal\"}, \"y\": {\"field\": \"vistas_x_compras\", \"type\": \"quantitative\"}}, \"title\": \"Promedio de vistas por compra\"}], \"data\": {\"name\": \"data-e2421aef68f10c4d9d3a9c2986ae12c2\"}, \"$schema\": \"https://vega.github.io/schema/vega-lite/v4.17.0.json\", \"datasets\": {\"data-e2421aef68f10c4d9d3a9c2986ae12c2\": [{\"category\": \"audifonos\", \"vistas_x_compras\": 12.8}, {\"category\": \"bocinas\", \"vistas_x_compras\": 4.5}, {\"category\": \"discos duros\", \"vistas_x_compras\": 4.925531914893617}, {\"category\": \"memorias usb\", \"vistas_x_compras\": null}, {\"category\": \"pantallas\", \"vistas_x_compras\": 28.0}, {\"category\": \"procesadores\", \"vistas_x_compras\": 2.1346153846153846}, {\"category\": \"tarjetas de video\", \"vistas_x_compras\": 3.1538461538461537}, {\"category\": \"tarjetas madre\", \"vistas_x_compras\": 2.795918367346939}]}}, {\"mode\": \"vega-lite\"});\n",
       "</script>"
      ],
      "text/plain": [
       "alt.LayerChart(...)"
      ]
     },
     "execution_count": 172,
     "metadata": {},
     "output_type": "execute_result"
    }
   ],
   "source": [
    "# print(join_searches)\n",
    "# print(join_sales)\n",
    "\n",
    "test_vistas_compras=join_searches.div(join_sales).to_frame(name=\"vistas_x_compras\").reset_index()\n",
    "print(test_vistas_compras)\n",
    "bar = alt.Chart(test_vistas_compras).mark_bar().encode(\n",
    "    x='category',\n",
    "    y='vistas_x_compras',\n",
    "    color='category'\n",
    ").properties(\n",
    "            title='Promedio de vistas por compra'\n",
    "        )\n",
    "\n",
    "\n",
    "# test_vistas_compras = test_vistas_compras.rename(columns={'0':'vistas_x_compras',})\n",
    "# # test_vistas_compras.columns\n",
    "# print(test_vistas_compras.columns.values)\n",
    "\n",
    "# Graficacion de la lista de productos\n",
    "bars = alt.Chart(test_vistas_compras).mark_bar().encode(\n",
    "    # x=alt.X('category', sort='y'),\n",
    "    # y=\"vistas_x_compras:Q\",\n",
    "    x='category',\n",
    "    y='vistas_x_compras:Q',\n",
    "    color=alt.Color(\"category\"),\n",
    "    \n",
    ")\n",
    "text = bars.mark_text(\n",
    "    align='left',\n",
    "    dx=-30, \n",
    "    color='black'\n",
    ").properties(\n",
    "            title='Promedio de vistas por compra'\n",
    "        )\n",
    "(bars + text )\n",
    "\n"
   ]
  },
  {
   "cell_type": "code",
   "execution_count": 218,
   "metadata": {},
   "outputs": [
    {
     "name": "stdout",
     "output_type": "stream",
     "text": [
      "category\n",
      "audifonos             7334.400000\n",
      "bocinas                657.000000\n",
      "discos duros          2132.755319\n",
      "memorias usb                  NaN\n",
      "pantallas            33320.000000\n",
      "procesadores          3887.134615\n",
      "tarjetas de video     1100.692308\n",
      "tarjetas madre        2275.877551\n",
      "dtype: float64\n"
     ]
    }
   ],
   "source": [
    "# dataframe_products\n",
    "test_vistas_compras = test_vistas_compras.dropna()\n",
    "testx = dataframe_products.groupby(['category']).sum()['stock']\n",
    "# print(testx)\n",
    "# print(test_vistas_compras)\n",
    "ventas_x_vistas_años= testx * join_searches.div(join_sales)\n",
    "# ventas_x_vistas_años = dataframe_products *test_vistas_compras\n",
    "print(ventas_x_vistas_años)"
   ]
  }
 ],
 "metadata": {
  "interpreter": {
   "hash": "3e4b6b4e05a31908945f0ab9896d8a373df1a2b500408d23e6fe24e93398fda7"
  },
  "kernelspec": {
   "display_name": "Python 3.9.10 64-bit (windows store)",
   "language": "python",
   "name": "python3"
  },
  "language_info": {
   "codemirror_mode": {
    "name": "ipython",
    "version": 3
   },
   "file_extension": ".py",
   "mimetype": "text/x-python",
   "name": "python",
   "nbconvert_exporter": "python",
   "pygments_lexer": "ipython3",
   "version": "3.9.2"
  },
  "orig_nbformat": 4
 },
 "nbformat": 4,
 "nbformat_minor": 2
}
