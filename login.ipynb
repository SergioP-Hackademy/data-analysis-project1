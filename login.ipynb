{
 "cells": [
  {
   "cell_type": "markdown",
   "metadata": {},
   "source": [
    "#### ANEXO 1.CONSIDERACIONES\n",
    "\n",
    "La elaboración del proyecto debe considerar los siguientes puntos:\n",
    "\n",
    "#### Login de usuario\n",
    "\n",
    "Deberá implementarse mediante entrada de teclado indicando los\n",
    "errores de entrada al usuario.\n"
   ]
  },
  {
   "cell_type": "code",
   "execution_count": 43,
   "metadata": {},
   "outputs": [
    {
     "name": "stdout",
     "output_type": "stream",
     "text": [
      "1\n",
      "Sergio\n",
      "Cronos@test.com\n",
      "admin\n",
      "Cronos\n",
      "False\n"
     ]
    }
   ],
   "source": [
    "import sqlite3\n",
    "\n",
    "from sqlite3 import Error\n",
    "from dotenv import dotenv_values\n",
    "\n",
    "def sql_connection():\n",
    "\n",
    "    try:\n",
    "\n",
    "        con = sqlite3.connect('mydatabase.db')\n",
    "\n",
    "        return con\n",
    "\n",
    "    except Error:\n",
    "\n",
    "        print(Error)\n",
    "\n",
    "def sql_table(con):\n",
    "\n",
    "    config = dotenv_values(\".env\")\n",
    "    listas = list(config.items())\n",
    "    entities = ( 1, 'Sergio', listas[0][1], 'admin', listas[1][1])\n",
    "    cursorObj = con.cursor()\n",
    "\n",
    "    cursorObj.execute(\"CREATE TABLE IF NOT EXISTS users(id integer PRIMARY KEY, user text,email text, role text, password text)\")\n",
    "    data = cursorObj.execute(\"SELECT * FROM users where id = 1\")\n",
    "\n",
    "    if (data.fetchone() == None):\n",
    "        cursorObj.execute('INSERT INTO users(id, user,email, role, password) VALUES( ?, ?, ?, ?, ?)', entities)\n",
    "    \n",
    "    con.commit()\n",
    "    con.close()\n",
    "\n",
    "\n",
    "def loginn(email, password ):\n",
    "    con = sql_connection()\n",
    "    sql_table(con)\n",
    "\n",
    "    data3 = cursorObj.execute(\"SELECT * FROM users where id = 1\").fetchone() \n",
    "    for row in data3:\n",
    "        # print(row)\n",
    "        if(data3[2] == email and data3[4] == password and data3[3] == 'admin' ):\n",
    "            return True\n",
    "    return False\n",
    "\n",
    "\n",
    "con = sql_connection()\n",
    "\n",
    "# sql_table(con)\n",
    "\n",
    "login_flag=login( 'Cronos@test.cm', 'Cronos')\n",
    "print(login_flag)"
   ]
  },
  {
   "cell_type": "code",
   "execution_count": 36,
   "metadata": {},
   "outputs": [
    {
     "name": "stdout",
     "output_type": "stream",
     "text": [
      "None\n"
     ]
    }
   ],
   "source": [
    "cursorObj = con.cursor()\n",
    "data = cursorObj.execute(\"SELECT name FROM sqlite_master WHERE type='table' AND name='users'\")\n",
    "# print('name'in data.description[0])\n",
    "# r = data.fetchone()\n",
    "# print(r)\n",
    "# print('users' in tuple(r))\n",
    "# for row in data:\n",
    "#      print(row)\n",
    "\n",
    "data2 = cursorObj.execute(\"SELECT * FROM users where id = 2\") \n",
    "rr = data.fetchone()\n",
    "print(rr)\n",
    "# for row in data2:\n",
    "#      print(row)\n"
   ]
  }
 ],
 "metadata": {
  "interpreter": {
   "hash": "7ac0e58055b6e15cc1ef5ed721dde87db39c76f8bf8253df302510a64a56e7b5"
  },
  "kernelspec": {
   "display_name": "Python 3.9.2 64-bit",
   "language": "python",
   "name": "python3"
  },
  "language_info": {
   "name": "python",
   "version": "3.9.2"
  },
  "orig_nbformat": 4
 },
 "nbformat": 4,
 "nbformat_minor": 2
}
